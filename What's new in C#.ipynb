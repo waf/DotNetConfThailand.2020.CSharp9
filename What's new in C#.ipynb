{
 "cells": [
  {
   "cell_type": "markdown",
   "metadata": {},
   "source": [
    "## Top-level statements"
   ]
  },
  {
   "cell_type": "markdown",
   "metadata": {},
   "source": [
    "... to Visual Studio!"
   ]
  },
  {
   "cell_type": "markdown",
   "metadata": {},
   "source": [
    "## Init-only setters"
   ]
  },
  {
   "cell_type": "markdown",
   "metadata": {},
   "source": [
    "### We like object initializers..."
   ]
  },
  {
   "cell_type": "code",
   "execution_count": 1,
   "metadata": {},
   "source": [
    "public class Currency\n",
    "{\n",
    "    public decimal Amount { get; set; }\n",
    "    public string CurrencyCode { get; set; }\n",
    "}\n",
    "\n",
    "var paycheck = new Currency\n",
    "{\n",
    "    Amount = 50000,\n",
    "    CurrencyCode = \"THB\"\n",
    "};"
   ],
   "outputs": []
  },
  {
   "cell_type": "markdown",
   "metadata": {},
   "source": [
    "### ...and we like immutability"
   ]
  },
  {
   "cell_type": "code",
   "execution_count": 1,
   "metadata": {},
   "source": [
    "public class Currency\n",
    "{\n",
    "    public Currency(decimal amount, string currencyCode)\n",
    "    {\n",
    "        Amount = amount;\n",
    "        CurrencyCode = currencyCode;\n",
    "    }\n",
    "\n",
    "    public decimal Amount { get; }\n",
    "    public string CurrencyCode { get; }\n",
    "}"
   ],
   "outputs": []
  },
  {
   "cell_type": "markdown",
   "metadata": {},
   "source": [
    "## Records"
   ]
  },
  {
   "cell_type": "code",
   "execution_count": 1,
   "metadata": {},
   "source": [
    "public class Currency\n",
    "{\n",
    "    public Currency(decimal amount, string currencyCode)\n",
    "    {\n",
    "        Amount = amount;\n",
    "        CurrencyCode = currencyCode;\n",
    "    }\n",
    "\n",
    "    public decimal Amount { get; set; }\n",
    "    public string CurrencyCode { get; set; }\n",
    "\n",
    "    // implement Equals?\n",
    "    // implement GetHashCode?\n",
    "    // implement IEquatable?\n",
    "    // implement equality operators?\n",
    "    // implement Deconstruct?\n",
    "    // implement ToString()?\n",
    "    // implement cloning / updates?\n",
    "}\n",
    "\n",
    "var amount1 = new Currency(2500, \"THB\");\n",
    "var amount2 = new Currency(2500, \"THB\");\n",
    "\n",
    "Console.WriteLine(amount1);\n",
    "Console.WriteLine(amount1 == amount2);\n",
    "\n",
    ""
   ],
   "outputs": []
  },
  {
   "cell_type": "markdown",
   "metadata": {},
   "source": [
    "## Pattern matching enhancements"
   ]
  },
  {
   "cell_type": "code",
   "execution_count": 1,
   "metadata": {},
   "source": [
    "string name = null;\n",
    "\n",
    "var result = name is null;\n",
    "\n",
    "int n = 3;\n",
    "\n",
    "result = n is > 5 and < 7"
   ],
   "outputs": []
  },
  {
   "cell_type": "markdown",
   "metadata": {},
   "source": [
    "## Target-typed new expressions"
   ]
  },
  {
   "cell_type": "code",
   "execution_count": 1,
   "metadata": {},
   "source": [
    "using System.Collections.Generic;\n",
    "\n",
    "public class Person\n",
    "{\n",
    "    private List<Person> friends;\n",
    "\n",
    "    public static string GoToParty(DateTime date) => $\"Woooo it's {date}\";\n",
    "}\n",
    "\n",
    "\n",
    ""
   ],
   "outputs": [
    {
     "output_type": "execute_result",
     "data": {
      "text/plain": "Woooo it's 31/12/2021 12:00:00 AM"
     },
     "execution_count": 1,
     "metadata": {}
    }
   ]
  },
  {
   "cell_type": "markdown",
   "metadata": {},
   "source": [
    "## Static anonymous functions"
   ]
  },
  {
   "cell_type": "code",
   "execution_count": 1,
   "metadata": {},
   "source": [
    "int[] numbers = {1, 2, 3, 4, 5, 6, 7, 8, 9, 10};\n",
    "\n",
    "numbers\n",
    "    .Where()\n",
    "    .ToList()"
   ],
   "outputs": [
    {
     "output_type": "error",
     "ename": "Error",
     "evalue": "(4,17): error CS0103: The name 'n' does not exist in the current context",
     "traceback": []
    }
   ]
  },
  {
   "cell_type": "markdown",
   "metadata": {},
   "source": [
    "## Target-typed conditional expressions"
   ]
  },
  {
   "cell_type": "code",
   "execution_count": 1,
   "metadata": {},
   "source": [
    "#r \"nuget: System.Collections.Immutable\""
   ],
   "outputs": []
  },
  {
   "cell_type": "code",
   "execution_count": 1,
   "metadata": {},
   "source": [
    "bool someCondition = false;\n",
    "int? score = someCondition\n",
    "    ? 100\n",
    "    : null;"
   ],
   "outputs": []
  },
  {
   "cell_type": "code",
   "execution_count": 1,
   "metadata": {},
   "source": [
    "using System.Collections.Immutable;\n",
    "\n",
    "bool isReadOnly = true;\n",
    "IEnumerable<string> collection = isReadOnly\n",
    "    ? ImmutableList.Create<string>()\n",
    "    : new List<string>();"
   ],
   "outputs": []
  },
  {
   "cell_type": "markdown",
   "metadata": {},
   "source": [
    "## Covariant Return Types"
   ]
  },
  {
   "cell_type": "code",
   "execution_count": 1,
   "metadata": {},
   "source": [
    "public abstract class Pet\n",
    "{\n",
    "    public void EatFood() { /* nom nom nom */ }\n",
    "    public void Die() { /* arghhhhhhhhh... */ }\n",
    "    public abstract Pet HaveBaby();\n",
    "}\n",
    "\n",
    "public class Cat : Pet\n",
    "{\n",
    "    public override Pet HaveBaby() => new Cat();\n",
    "}\n",
    "\n",
    "public class Dog : Pet\n",
    "{\n",
    "    public override Pet HaveBaby() => new Dog();\n",
    "}\n",
    "\n",
    "Cat cat = new Cat();"
   ],
   "outputs": []
  },
  {
   "cell_type": "markdown",
   "metadata": {},
   "source": [
    "## Bonus! Enabling C# 9.0 in older .NET projects"
   ]
  },
  {
   "cell_type": "markdown",
   "metadata": {},
   "source": [
    "- Most features work\n",
    "    - Features that are just code generation work, like top-level statements, records, init-only properties\n",
    "    - Features that require \"deeper changes\" like covariant return types do not."
   ]
  },
  {
   "cell_type": "code",
   "execution_count": 1,
   "metadata": {},
   "source": [
    "using System.ComponentModel;\n",
    "\n",
    "namespace System.Runtime.CompilerServices\n",
    "{\n",
    "    [EditorBrowsable(EditorBrowsableState.Never)]\n",
    "    internal static class IsExternalInit\n",
    "    {\n",
    "    }\n",
    "}\n",
    ""
   ],
   "outputs": []
  }
 ],
 "metadata": {
  "kernelspec": {
   "display_name": ".NET (C#)",
   "language": "C#",
   "name": ".net-csharp"
  },
  "language_info": {
   "file_extension": ".cs",
   "mimetype": "text/x-csharp",
   "name": "C#",
   "pygments_lexer": "csharp",
   "version": "8.0"
  }
 },
 "nbformat": 4,
 "nbformat_minor": 4
}