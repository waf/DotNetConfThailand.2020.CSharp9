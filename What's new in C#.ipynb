{
 "cells": [
  {
   "cell_type": "markdown",
   "metadata": {},
   "source": [
    "## Top-level statements"
   ]
  },
  {
   "cell_type": "markdown",
   "metadata": {},
   "source": [
    "... to Visual Studio!"
   ]
  },
  {
   "cell_type": "markdown",
   "metadata": {},
   "source": [
    "## Init-only setters"
   ]
  },
  {
   "cell_type": "markdown",
   "metadata": {},
   "source": [
    "### We like object initializers..."
   ]
  },
  {
   "cell_type": "code",
   "execution_count": 1,
   "metadata": {},
   "outputs": [],
   "source": [
    "public class Currency\r\n",
    "{\r\n",
    "    public decimal Amount { get; set; }\r\n",
    "    public string CurrencyCode { get; set; }\r\n",
    "}\r\n",
    "\r\n",
    "var paycheck = new Currency\r\n",
    "{\r\n",
    "    Amount = 50000,\r\n",
    "    CurrencyCode = \"THB\"\r\n",
    "};"
   ]
  },
  {
   "cell_type": "markdown",
   "metadata": {},
   "source": [
    "### ...and we like immutability"
   ]
  },
  {
   "cell_type": "code",
   "execution_count": 1,
   "metadata": {},
   "outputs": [],
   "source": [
    "public class Currency\n",
    "{\n",
    "    public Currency(decimal amount, string currencyCode)\n",
    "    {\n",
    "        Amount = amount;\n",
    "        CurrencyCode = currencyCode;\n",
    "    }\n",
    "\n",
    "    public decimal Amount { get; }\n",
    "    public string CurrencyCode { get; }\n",
    "}"
   ]
  },
  {
   "cell_type": "markdown",
   "metadata": {},
   "source": [
    "## Records"
   ]
  },
  {
   "cell_type": "code",
   "execution_count": null,
   "metadata": {},
   "outputs": [],
   "source": [
    "public class Money\r\n",
    "{\r\n",
    "    public Money(decimal amount, string currencyCode)\r\n",
    "    {\r\n",
    "        Amount = amount;\r\n",
    "        CurrencyCode = currencyCode;\r\n",
    "    }\r\n",
    "\r\n",
    "    public decimal Amount { get; }\r\n",
    "    public string CurrencyCode { get; }\r\n",
    "\r\n",
    "    // implement ToString()?\r\n",
    "    // implement Equals?\r\n",
    "    // implement GetHashCode?\r\n",
    "    // implement IEquatable?\r\n",
    "    // implement equality operators?\r\n",
    "    // implement Deconstruct?\r\n",
    "    // implement cloning / updates?\r\n",
    "}\r\n",
    "\r\n",
    "var amount1 = new Money(2500, \"THB\");\r\n",
    "var amount2 = new Money(2500, \"THB\");\r\n",
    "\r\n",
    "Console.WriteLine(amount1);\r\n",
    "Console.WriteLine(amount1 == amount2);\r\n"
   ]
  },
  {
   "cell_type": "markdown",
   "metadata": {},
   "source": [
    "## Pattern matching enhancements"
   ]
  },
  {
   "cell_type": "code",
   "execution_count": null,
   "metadata": {},
   "outputs": [],
   "source": [
    "string name = \"Satya\";\r\n",
    "var result = name is null;"
   ]
  },
  {
   "cell_type": "code",
   "execution_count": null,
   "metadata": {},
   "outputs": [],
   "source": [
    "int n = 3; \r\n",
    "var result = n is > 5 and < 7;"
   ]
  },
  {
   "cell_type": "markdown",
   "metadata": {},
   "source": [
    "## Target-typed new expressions"
   ]
  },
  {
   "cell_type": "code",
   "execution_count": null,
   "metadata": {},
   "outputs": [],
   "source": [
    "using System.Collections.Generic;\r\n",
    "\r\n",
    "public class Person\r\n",
    "{\r\n",
    "    private List<Person> friends;\r\n",
    "\r\n",
    "    public string MeetFriends(DateTime date) => $\"Meeting friends on {date}\";\r\n",
    "}"
   ]
  },
  {
   "cell_type": "markdown",
   "metadata": {},
   "source": [
    "## Static lambdas / anonymous functions"
   ]
  },
  {
   "cell_type": "code",
   "execution_count": null,
   "metadata": {},
   "outputs": [],
   "source": [
    "int[] numbers = {1, 2, 3, 4, 5, 6, 7, 8, 9, 10};\r\n",
    "\r\n",
    "numbers\r\n",
    "    .Where()\r\n",
    "    .ToList()"
   ]
  },
  {
   "cell_type": "markdown",
   "metadata": {},
   "source": [
    "## Target-typed conditional expressions"
   ]
  },
  {
   "cell_type": "code",
   "execution_count": 1,
   "metadata": {},
   "outputs": [],
   "source": [
    "#r \"nuget: System.Collections.Immutable\""
   ]
  },
  {
   "cell_type": "code",
   "execution_count": 1,
   "metadata": {},
   "outputs": [],
   "source": [
    "bool someCondition = false;\n",
    "int? score = someCondition\n",
    "    ? 100\n",
    "    : null;"
   ]
  },
  {
   "cell_type": "code",
   "execution_count": 1,
   "metadata": {},
   "outputs": [],
   "source": [
    "using System.Collections.Immutable;\n",
    "\n",
    "bool isReadOnly = true;\n",
    "IEnumerable<string> collection = isReadOnly\n",
    "    ? ImmutableList.Create<string>()\n",
    "    : new List<string>();"
   ]
  },
  {
   "cell_type": "markdown",
   "metadata": {},
   "source": [
    "## Covariant Return Types"
   ]
  },
  {
   "cell_type": "code",
   "execution_count": 1,
   "metadata": {},
   "outputs": [],
   "source": [
    "public abstract class Pet\n",
    "{\n",
    "    public void EatFood() { /* nom nom nom */ }\n",
    "    public void Die() { /* arghhhhhhhhh... */ }\n",
    "    public abstract Pet HaveBaby();\n",
    "}\n",
    "\n",
    "public class Cat : Pet\n",
    "{\n",
    "    public override Pet HaveBaby() => new Cat();\n",
    "}\n",
    "\n",
    "public class Dog : Pet\n",
    "{\n",
    "    public override Pet HaveBaby() => new Dog();\n",
    "}\n",
    "\n",
    "Cat cat = new Cat();"
   ]
  },
  {
   "cell_type": "markdown",
   "metadata": {},
   "source": [
    "## Bonus! Enabling C# 9.0 in older .NET projects"
   ]
  },
  {
   "cell_type": "markdown",
   "metadata": {},
   "source": [
    "- Most features work\n",
    "    - Features that are just code generation work, like top-level statements, records, init-only properties\n",
    "    - Features that require \"deeper changes\" like covariant return types do not."
   ]
  },
  {
   "cell_type": "code",
   "execution_count": 1,
   "metadata": {},
   "outputs": [],
   "source": [
    "using System.ComponentModel;\n",
    "\n",
    "namespace System.Runtime.CompilerServices\n",
    "{\n",
    "    [EditorBrowsable(EditorBrowsableState.Never)]\n",
    "    internal static class IsExternalInit\n",
    "    {\n",
    "    }\n",
    "}\n"
   ]
  }
 ],
 "metadata": {
  "kernelspec": {
   "display_name": ".NET (C#)",
   "language": "C#",
   "name": ".net-csharp"
  },
  "language_info": {
   "file_extension": ".cs",
   "mimetype": "text/x-csharp",
   "name": "csharp",
   "pygments_lexer": "csharp",
   "version": "8.0"
  }
 },
 "nbformat": 4,
 "nbformat_minor": 4
}